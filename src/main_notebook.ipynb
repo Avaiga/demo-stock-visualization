{
  "nbformat": 4,
  "nbformat_minor": 0,
  "metadata": {
    "colab": {
      "provenance": []
    },
    "kernelspec": {
      "name": "python3",
      "display_name": "Python 3"
    },
    "language_info": {
      "name": "python"
    }
  },
  "cells": [
    {
      "cell_type": "code",
      "source": [
        "from taipy import Gui\n",
        "from datetime import date\n",
        "import yfinance as yf\n",
        "from prophet import Prophet\n",
        "\n",
        "# Parameters for retrieving the stock data\n",
        "start_date = \"2015-01-01\"\n",
        "end_date = date.today().strftime(\"%Y-%m-%d\")\n",
        "selected_stock = 'AAPL'\n",
        "n_years = 1\n",
        "\n",
        "\n",
        "def get_stock_data(ticker, start, end):\n",
        "    ticker_data = yf.download(ticker, start, end)  # downloading the stock data from START to TODAY\n",
        "    ticker_data.reset_index(inplace=True)  # put date in the first column\n",
        "    ticker_data['Date'] = ticker_data['Date'].dt.tz_localize(None)\n",
        "    return ticker_data\n",
        "\n",
        "\n",
        "def generate_forecast_data(data, n_years):\n",
        "    print(\"FORECASTING\")\n",
        "    # FORECASTING\n",
        "    df_train = data[['Date', 'Close']]\n",
        "    df_train = df_train.rename(columns={\"Date\": \"ds\", \"Close\": \"y\"})  # This is the format that Prophet accepts\n",
        "\n",
        "    m = Prophet()\n",
        "    m.fit(df_train)\n",
        "    future = m.make_future_dataframe(periods=n_years * 365)\n",
        "    fc = m.predict(future)[['ds', 'yhat_lower', 'yhat_upper']]\n",
        "    print(\"Process Completed!\")\n",
        "    return fc"
      ],
      "metadata": {
        "id": "SAEhNaljG-gF"
      },
      "execution_count": null,
      "outputs": []
    },
    {
      "cell_type": "markdown",
      "source": [
        "### Getting the data and make initial forecast"
      ],
      "metadata": {
        "id": "a6IQnVbgHL9r"
      }
    },
    {
      "cell_type": "code",
      "source": [
        "data = get_stock_data(selected_stock, start_date, end_date)\n",
        "forecast = generate_forecast_data(data, n_years)"
      ],
      "metadata": {
        "id": "dbz8XNR8HVGm"
      },
      "execution_count": null,
      "outputs": []
    },
    {
      "cell_type": "markdown",
      "source": [
        "### Create a front-end web-app with Taipy GUI "
      ],
      "metadata": {
        "id": "SAf9CZ9lHQml"
      }
    },
    {
      "cell_type": "code",
      "source": [
        "#Taipy GUI parameters\n",
        "show_part_1 = True\n",
        "show_part_2 = True\n",
        "show_dialog = False\n",
        "\n",
        "def get_data_from_range(state):\n",
        "    print(\"GENERATING HIST DATA\")\n",
        "    print(state.start_date)\n",
        "    state.data = get_stock_data(state.selected_stock, state.start_date, state.end_date)\n",
        "    state.show_part_1 = True\n",
        "\n",
        "def forecast_display(state):\n",
        "    state.forecast = generate_forecast_data(state.data, state.n_years)\n",
        "    \n",
        "page = \"\"\"\n",
        "<center><h1>Stock Price Analysis Dashboard with Taipy</h1></center>\n",
        "\n",
        "<|layout|columns=1 2 2|\n",
        "\n",
        "<|\n",
        "##Choose the period\n",
        "###FROM:   \n",
        "<|{start_date}|date|>  \n",
        "###TO:   \n",
        "<|{end_date}|date|>  \n",
        "|>\n",
        "\n",
        "<|\n",
        "##Please enter a valid ticker:  \n",
        "<center>\n",
        "<|{selected_stock}|input|>  \n",
        "</center>\n",
        "##Popular tickers:\n",
        "<center>\n",
        "<|{selected_stock}|toggle|lov=MSFT;GOOG;AAPL; AMZN; META; COIN; GME; AMC;PYPL|>\n",
        "</center>\n",
        "|>\n",
        "\n",
        "<|\n",
        "##Select a prediction method\n",
        "Select number of prediction years: <|{n_years}|>  \n",
        "<|{n_years}|slider|min=1|max=5|>  \n",
        "|>\n",
        "|>\n",
        "\n",
        "\n",
        "<|ENTER|button|on_action=get_data_from_range|>  \n",
        "<|Show dialog|button|on_action={lambda state: state.assign(\"show_dialog\", True)}|>\n",
        "\n",
        "\n",
        "<|layout|columns=1 1|\n",
        "<|\n",
        "<|part|render={show_part_1}|partial={partial_A}|>\n",
        "\n",
        "|>\n",
        "\n",
        "<|\n",
        "<|PREDICT|button|on_action=forecast_display|>\n",
        "<|part|render={show_part_2}|partial={partial_B}|>\n",
        "|>\n",
        "|>\n",
        "\n",
        "\n",
        "<|Historical Data|expandable|expanded=False|partial={partial_A}|>\n",
        "<|{show_dialog}|dialog|width=80%|partial={partial_A}|on_action={lambda state: state.assign(\"show_dialog\", False)}|>\n",
        "<|FORECAST Data|expandable|expanded=False|partial={partial_B}|>\n",
        "\"\"\"\n",
        "\n",
        "#CREATING PARTIALS (OPTIONAL BUT RECOMMENDED)\n",
        "# Taipy Docs: Re-usable Page content.\n",
        "# Partials are used when you need to use a partial page content in different and not related pages. This allows not to have to repeat yourself when creating your page templates.\n",
        "\n",
        "p1 = \"\"\"\n",
        "##Historical closing price\n",
        "<|{data}|chart|mode=line|x=Date|y[1]=Open|y[2]=Close|>\n",
        "\n",
        "##Historical daily trading volume\n",
        "<|{data}|chart|mode=line|x=Date|y=Volume|>\n",
        "\n",
        "##Here is the historical data of the stock: <|{selected_stock}|>\n",
        "<|{data}|table|width=80%|>\n",
        "\"\"\"\n",
        "\n",
        "p2 = \"\"\"\n",
        "##FORECAST DATA \n",
        "<|{forecast}|chart|mode=line|x=ds|y[1]=yhat_lower|y[2]=yhat_upper|>\n",
        "\n",
        "<|{forecast}|table|width=80%|>\n",
        "\"\"\"\n",
        "\n",
        "# Run Taipy GUI\n",
        "gui = Gui(page)\n",
        "partial_A = gui.add_partial(p1)\n",
        "partial_B = gui.add_partial(p2)\n",
        "\n",
        "gui.run(dark_mode=False)"
      ],
      "metadata": {
        "id": "rQvhWv8FHDIb"
      },
      "execution_count": null,
      "outputs": []
    }
  ]
}