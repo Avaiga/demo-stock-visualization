{
 "cells": [
  {
   "cell_type": "markdown",
   "id": "e20aa0a5",
   "metadata": {},
   "source": [
    "# Demo Stock Visualization"
   ]
  },
  {
   "cell_type": "markdown",
   "id": "e9a88847",
   "metadata": {},
   "source": [
    "## Installation of packages"
   ]
  },
  {
   "cell_type": "code",
   "execution_count": 3,
   "id": "d7225bec",
   "metadata": {},
   "outputs": [
    {
     "name": "stdout",
     "output_type": "stream",
     "text": [
      "Collecting yfinance\n",
      "  Downloading yfinance-0.1.81-py2.py3-none-any.whl (29 kB)\n",
      "Collecting requests>=2.26\n",
      "  Using cached requests-2.28.1-py3-none-any.whl (62 kB)\n",
      "Collecting lxml>=4.5.1\n",
      "  Using cached lxml-4.9.1-cp310-cp310-win_amd64.whl (3.6 MB)\n",
      "Collecting appdirs>=1.4.4\n",
      "  Using cached appdirs-1.4.4-py2.py3-none-any.whl (9.6 kB)\n",
      "Requirement already satisfied: numpy>=1.15 in c:\\users\\jacta\\appdata\\local\\r-miniconda\\envs\\notebook\\lib\\site-packages (from yfinance) (1.23.3)\n",
      "Requirement already satisfied: pandas>=0.24.0 in c:\\users\\jacta\\appdata\\local\\r-miniconda\\envs\\notebook\\lib\\site-packages (from yfinance) (1.5.0)\n",
      "Collecting multitasking>=0.0.7\n",
      "  Using cached multitasking-0.0.11-py3-none-any.whl (8.5 kB)\n",
      "Requirement already satisfied: pytz>=2020.1 in c:\\users\\jacta\\appdata\\local\\r-miniconda\\envs\\notebook\\lib\\site-packages (from pandas>=0.24.0->yfinance) (2022.1)\n",
      "Requirement already satisfied: python-dateutil>=2.8.1 in c:\\users\\jacta\\appdata\\local\\r-miniconda\\envs\\notebook\\lib\\site-packages (from pandas>=0.24.0->yfinance) (2.8.2)\n",
      "Requirement already satisfied: urllib3<1.27,>=1.21.1 in c:\\users\\jacta\\appdata\\local\\r-miniconda\\envs\\notebook\\lib\\site-packages (from requests>=2.26->yfinance) (1.26.12)\n",
      "Collecting idna<4,>=2.5\n",
      "  Using cached idna-3.4-py3-none-any.whl (61 kB)\n",
      "Collecting charset-normalizer<3,>=2\n",
      "  Using cached charset_normalizer-2.1.1-py3-none-any.whl (39 kB)\n",
      "Requirement already satisfied: certifi>=2017.4.17 in c:\\users\\jacta\\appdata\\local\\r-miniconda\\envs\\notebook\\lib\\site-packages (from requests>=2.26->yfinance) (2022.9.14)\n",
      "Requirement already satisfied: six>=1.5 in c:\\users\\jacta\\appdata\\roaming\\python\\python310\\site-packages (from python-dateutil>=2.8.1->pandas>=0.24.0->yfinance) (1.16.0)\n",
      "Installing collected packages: multitasking, appdirs, lxml, idna, charset-normalizer, requests, yfinance\n",
      "Successfully installed appdirs-1.4.4 charset-normalizer-2.1.1 idna-3.4 lxml-4.9.1 multitasking-0.0.11 requests-2.28.1 yfinance-0.1.81\n",
      "Collecting prophet\n",
      "  Using cached prophet-1.1.1-cp310-cp310-win_amd64.whl (12.1 MB)\n",
      "Collecting holidays>=0.14.2\n",
      "  Using cached holidays-0.16-py3-none-any.whl (184 kB)\n",
      "Requirement already satisfied: python-dateutil>=2.8.0 in c:\\users\\jacta\\appdata\\local\\r-miniconda\\envs\\notebook\\lib\\site-packages (from prophet) (2.8.2)\n",
      "Collecting setuptools-git>=1.2\n",
      "  Using cached setuptools_git-1.2-py2.py3-none-any.whl (10 kB)\n",
      "Requirement already satisfied: wheel>=0.37.0 in c:\\users\\jacta\\appdata\\local\\r-miniconda\\envs\\notebook\\lib\\site-packages (from prophet) (0.37.1)\n",
      "Collecting tqdm>=4.36.1\n",
      "  Using cached tqdm-4.64.1-py2.py3-none-any.whl (78 kB)\n",
      "Collecting LunarCalendar>=0.0.9\n",
      "  Using cached LunarCalendar-0.0.9-py2.py3-none-any.whl (18 kB)\n",
      "Requirement already satisfied: pandas>=1.0.4 in c:\\users\\jacta\\appdata\\local\\r-miniconda\\envs\\notebook\\lib\\site-packages (from prophet) (1.5.0)\n",
      "Requirement already satisfied: setuptools>=42 in c:\\users\\jacta\\appdata\\local\\r-miniconda\\envs\\notebook\\lib\\site-packages (from prophet) (63.4.1)\n",
      "Collecting cmdstanpy>=1.0.4\n",
      "  Downloading cmdstanpy-1.0.8-py3-none-any.whl (81 kB)\n",
      "     -------------------------------------- 81.2/81.2 kB 909.3 kB/s eta 0:00:00\n",
      "Collecting matplotlib>=2.0.0\n",
      "  Using cached matplotlib-3.6.1-cp310-cp310-win_amd64.whl (7.2 MB)\n",
      "Collecting convertdate>=2.1.2\n",
      "  Using cached convertdate-2.4.0-py3-none-any.whl (47 kB)\n",
      "Requirement already satisfied: numpy>=1.15.4 in c:\\users\\jacta\\appdata\\local\\r-miniconda\\envs\\notebook\\lib\\site-packages (from prophet) (1.23.3)\n",
      "Collecting pymeeus<=1,>=0.3.13\n",
      "  Using cached PyMeeus-0.5.11-py3-none-any.whl\n",
      "Collecting hijri-converter\n",
      "  Using cached hijri_converter-2.2.4-py3-none-any.whl (14 kB)\n",
      "Collecting korean-lunar-calendar\n",
      "  Using cached korean_lunar_calendar-0.3.1-py3-none-any.whl (9.0 kB)\n",
      "Requirement already satisfied: pytz in c:\\users\\jacta\\appdata\\local\\r-miniconda\\envs\\notebook\\lib\\site-packages (from LunarCalendar>=0.0.9->prophet) (2022.1)\n",
      "Collecting ephem>=3.7.5.3\n",
      "  Using cached ephem-4.1.3-cp310-cp310-win_amd64.whl (1.4 MB)\n",
      "Requirement already satisfied: pyparsing>=2.2.1 in c:\\users\\jacta\\appdata\\local\\r-miniconda\\envs\\notebook\\lib\\site-packages (from matplotlib>=2.0.0->prophet) (3.0.9)\n",
      "Collecting pillow>=6.2.0\n",
      "  Using cached Pillow-9.2.0-cp310-cp310-win_amd64.whl (3.3 MB)\n",
      "Collecting fonttools>=4.22.0\n",
      "  Downloading fonttools-4.38.0-py3-none-any.whl (965 kB)\n",
      "     ------------------------------------- 965.4/965.4 kB 12.2 MB/s eta 0:00:00\n",
      "Collecting cycler>=0.10\n",
      "  Using cached cycler-0.11.0-py3-none-any.whl (6.4 kB)\n",
      "Requirement already satisfied: packaging>=20.0 in c:\\users\\jacta\\appdata\\local\\r-miniconda\\envs\\notebook\\lib\\site-packages (from matplotlib>=2.0.0->prophet) (21.3)\n",
      "Collecting kiwisolver>=1.0.1\n",
      "  Using cached kiwisolver-1.4.4-cp310-cp310-win_amd64.whl (55 kB)\n",
      "Collecting contourpy>=1.0.1\n",
      "  Using cached contourpy-1.0.5-cp310-cp310-win_amd64.whl (164 kB)\n",
      "Requirement already satisfied: six>=1.5 in c:\\users\\jacta\\appdata\\roaming\\python\\python310\\site-packages (from python-dateutil>=2.8.0->prophet) (1.16.0)\n",
      "Requirement already satisfied: colorama in c:\\users\\jacta\\appdata\\local\\r-miniconda\\envs\\notebook\\lib\\site-packages (from tqdm>=4.36.1->prophet) (0.4.5)\n",
      "Installing collected packages: setuptools-git, pymeeus, korean-lunar-calendar, ephem, tqdm, pillow, kiwisolver, hijri-converter, fonttools, cycler, convertdate, contourpy, matplotlib, LunarCalendar, holidays, cmdstanpy, prophet\n",
      "Successfully installed LunarCalendar-0.0.9 cmdstanpy-1.0.8 contourpy-1.0.5 convertdate-2.4.0 cycler-0.11.0 ephem-4.1.3 fonttools-4.38.0 hijri-converter-2.2.4 holidays-0.16 kiwisolver-1.4.4 korean-lunar-calendar-0.3.1 matplotlib-3.6.1 pillow-9.2.0 prophet-1.1.1 pymeeus-0.5.11 setuptools-git-1.2 tqdm-4.64.1\n"
     ]
    }
   ],
   "source": [
    "# !pip install taipy\n",
    "# !pip install yfinance\n",
    "# !pip install prophet"
   ]
  },
  {
   "cell_type": "markdown",
   "id": "ca5f00f8",
   "metadata": {},
   "source": [
    "## Import of packages"
   ]
  },
  {
   "cell_type": "code",
   "execution_count": 4,
   "id": "7167ff47",
   "metadata": {},
   "outputs": [
    {
     "name": "stderr",
     "output_type": "stream",
     "text": [
      "Importing plotly failed. Interactive plots will not work.\n"
     ]
    }
   ],
   "source": [
    "from taipy import Gui \n",
    "from datetime import date\n",
    "\n",
    "import yfinance as yf\n",
    "from prophet import Prophet"
   ]
  },
  {
   "cell_type": "markdown",
   "id": "9671ecfd",
   "metadata": {},
   "source": [
    "## Initialization"
   ]
  },
  {
   "cell_type": "code",
   "execution_count": 5,
   "id": "de4b8f03",
   "metadata": {},
   "outputs": [],
   "source": [
    "start_date = \"2015-01-01\"\n",
    "end_date = date.today().strftime(\"%Y-%m-%d\")\n",
    "\n",
    "selected_stock = \"AAPL\"\n",
    "\n",
    "n_years = 1\n",
    "data = None\n",
    "\n",
    "show_part_1 = True\n",
    "show_part_2 = True\n",
    "show_dialog = False"
   ]
  },
  {
   "cell_type": "markdown",
   "id": "3628e6f5",
   "metadata": {},
   "source": [
    "## Functions"
   ]
  },
  {
   "cell_type": "code",
   "execution_count": 7,
   "id": "0f8a5513",
   "metadata": {},
   "outputs": [],
   "source": [
    "def load_data(ticker, start, end):\n",
    "    data = yf.download(ticker, start, end) #downloading the stock data from START to TODAY\n",
    "    data.reset_index(inplace=True) #put date in the first column\n",
    "    data['Date'] = data['Date'].dt.tz_localize(None)\n",
    "    return data\n",
    "\n",
    "def generate_hist_data(state):\n",
    "    print(\"GENERATING HIST DATA\")\n",
    "    print(state.start_date)\n",
    "    state.data = load_data(state.selected_stock, state.start_date, state.end_date)\n",
    "    state.show_part_1 = True\n",
    "\n",
    "def generate_forecast_data(data, n_years):\n",
    "    print(\"FORECASTING\")\n",
    "    #FORECASTING\n",
    "    df_train = data[['Date', 'Close']]\n",
    "    df_train = df_train.rename(columns={\"Date\": \"ds\",\"Close\": \"y\"}) #This is the format that Prophet accepts\n",
    "\n",
    "    m = Prophet()\n",
    "    m.fit(df_train)\n",
    "    future = m.make_future_dataframe(periods=n_years*365)\n",
    "    forecast = m.predict(future)[['ds','yhat_lower','yhat_upper']]\n",
    "    print(\"Process Completed!\")\n",
    "\n",
    "    return forecast\n",
    "\n",
    "\n",
    "def forecast_display(state):\n",
    "    state.forecast = generate_forecast_data(state.data, state.n_years)"
   ]
  },
  {
   "cell_type": "code",
   "execution_count": 8,
   "id": "37c3bd40",
   "metadata": {},
   "outputs": [
    {
     "name": "stdout",
     "output_type": "stream",
     "text": [
      "[*********************100%***********************]  1 of 1 completed\n",
      "FORECASTING\n"
     ]
    },
    {
     "name": "stderr",
     "output_type": "stream",
     "text": [
      "12:55:03 - cmdstanpy - INFO - Chain [1] start processing\n",
      "12:55:04 - cmdstanpy - INFO - Chain [1] done processing\n"
     ]
    },
    {
     "name": "stdout",
     "output_type": "stream",
     "text": [
      "Process Completed!\n"
     ]
    }
   ],
   "source": [
    "data = load_data(selected_stock, start_date, end_date)\n",
    "forecast = generate_forecast_data(data, n_years)"
   ]
  },
  {
   "cell_type": "markdown",
   "id": "741a3092",
   "metadata": {},
   "source": [
    "## Markdown for pages"
   ]
  },
  {
   "cell_type": "code",
   "execution_count": 10,
   "id": "08a3a58d",
   "metadata": {},
   "outputs": [],
   "source": [
    "page = \"\"\"\n",
    "<center><h1>Stock Price Analysis Dashboard with Taipy</h1></center>\n",
    "\n",
    "<|layout|columns=1 2 2|\n",
    "\n",
    "<|\n",
    "##Choose the period\n",
    "###FROM:   \n",
    "<|{start_date}|date|>  \n",
    "###TO:   \n",
    "<|{end_date}|date|>  \n",
    "|>\n",
    "\n",
    "<|\n",
    "##Please enter a valid ticker:  \n",
    "<center>\n",
    "<|{selected_stock}|input|>  \n",
    "</center>\n",
    "##Popular tickers:\n",
    "<center>\n",
    "<|{selected_stock}|toggle|lov=MSFT;GOOG;AAPL; AMZN; META; COIN; GME; AMC;PYPL|>\n",
    "</center>\n",
    "|>\n",
    "\n",
    "\n",
    "\n",
    "\n",
    "\n",
    "<|\n",
    "##Select a prediction method\n",
    "Select number of prediction years: <|{n_years}|>  \n",
    "<|{n_years}|slider|min=1|max=5|>  \n",
    "|>\n",
    "|>\n",
    "\n",
    "\n",
    "<|ENTER|button|on_action=generate_hist_data|>  \n",
    "<|Show dialog|button|on_action={lambda state: state.assign(\"show_dialog\", True)}|>\n",
    "\n",
    "\n",
    "\n",
    "\n",
    "<|layout|columns=1 1|\n",
    "<|\n",
    "<|part|render={show_part_1}|partial={partial_A}|>\n",
    "\n",
    "|>\n",
    "\n",
    "<|\n",
    "<|PREDICT|button|on_action=forecast_display|>\n",
    "<|part|render={show_part_2}|partial={partial_B}|>\n",
    "|>\n",
    "|>\n",
    "\n",
    "\n",
    "<|Historical Data|expandable|expanded=False|partial={partial_A}|>\n",
    "<|{show_dialog}|dialog|width=80%|partial={partial_A}|on_action={lambda state: state.assign(\"show_dialog\", False)}|>\n",
    "<|FORECAST Data|expandable|expanded=False|partial={partial_B}|>\n",
    "\"\"\""
   ]
  },
  {
   "cell_type": "code",
   "execution_count": 11,
   "id": "a9a8c02e",
   "metadata": {},
   "outputs": [],
   "source": [
    "p1 = \"\"\"\n",
    "##Historical closing price\n",
    "<|{data}|chart|mode=line|x=Date|y[1]=Open|y[2]=Close|>\n",
    "\n",
    "##Historical daily trading volume\n",
    "<|{data}|chart|mode=line|x=Date|y=Volume|>\n",
    "\n",
    "##Here is the historical data of the stock: <|{selected_stock}|>\n",
    "<|{data}|table|width=80%|>\n",
    "\"\"\""
   ]
  },
  {
   "cell_type": "code",
   "execution_count": 12,
   "id": "c4755d8f",
   "metadata": {},
   "outputs": [],
   "source": [
    "p2 = \"\"\"\n",
    "##FORECAST DATA \n",
    "<|{forecast}|chart|mode=line|x=ds|y[1]=yhat_lower|y[2]=yhat_upper|>\n",
    "\n",
    "<|{forecast}|table|width=80%|>\n",
    "\"\"\""
   ]
  },
  {
   "cell_type": "markdown",
   "id": "27ed27a4",
   "metadata": {},
   "source": [
    "## Gui creation"
   ]
  },
  {
   "cell_type": "code",
   "execution_count": 14,
   "id": "5f661428",
   "metadata": {},
   "outputs": [
    {
     "name": "stdout",
     "output_type": "stream",
     "text": [
      " * Server starting on http://127.0.0.1:5001\n"
     ]
    }
   ],
   "source": [
    "#Run Taipy GUI\n",
    "gui = Gui(page)\n",
    "partial_A = gui.add_partial(p1)\n",
    "partial_B = gui.add_partial(p2)\n",
    "\n",
    "gui.run(dark_mode=False, port=5001)"
   ]
  }
 ],
 "metadata": {
  "kernelspec": {
   "display_name": "notebook",
   "language": "python",
   "name": "notebook"
  },
  "language_info": {
   "codemirror_mode": {
    "name": "ipython",
    "version": 3
   },
   "file_extension": ".py",
   "mimetype": "text/x-python",
   "name": "python",
   "nbconvert_exporter": "python",
   "pygments_lexer": "ipython3",
   "version": "3.10.4"
  }
 },
 "nbformat": 4,
 "nbformat_minor": 5
}
